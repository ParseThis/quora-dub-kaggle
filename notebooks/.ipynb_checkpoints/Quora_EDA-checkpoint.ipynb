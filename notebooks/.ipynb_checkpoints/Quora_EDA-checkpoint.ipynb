{
 "cells": [
  {
   "cell_type": "code",
   "execution_count": 13,
   "metadata": {
    "collapsed": true,
    "deletable": true,
    "editable": true
   },
   "outputs": [],
   "source": [
    "%matplotlib inline"
   ]
  },
  {
   "cell_type": "code",
   "execution_count": 14,
   "metadata": {
    "collapsed": true,
    "deletable": true,
    "editable": true
   },
   "outputs": [],
   "source": [
    "import numpy as np\n",
    "import pandas as pd\n",
    "import matplotlib.pyplot as plt"
   ]
  },
  {
   "cell_type": "code",
   "execution_count": 15,
   "metadata": {
    "collapsed": false,
    "deletable": true,
    "editable": true
   },
   "outputs": [],
   "source": [
    "from keras import backend as K\n",
    "from keras.models import Sequential\n",
    "from keras.layers import Dense, Activation, LSTM, Lambda"
   ]
  },
  {
   "cell_type": "code",
   "execution_count": 71,
   "metadata": {
    "collapsed": true
   },
   "outputs": [],
   "source": [
    "from nltk.tokenize import TweetTokenizer\n",
    "from sklearn.preprocessing import OneHotEncoder"
   ]
  },
  {
   "cell_type": "code",
   "execution_count": 57,
   "metadata": {
    "collapsed": false,
    "deletable": true,
    "editable": true
   },
   "outputs": [],
   "source": [
    "data = pd.read_csv('../data/train.csv')"
   ]
  },
  {
   "cell_type": "code",
   "execution_count": 58,
   "metadata": {
    "collapsed": false,
    "deletable": true,
    "editable": true
   },
   "outputs": [],
   "source": [
    "# pd.set_option('display.height', 1000)\n",
    "# pd.set_option('display.max_rows', 10)\n",
    "# pd.set_option('display.max_columns', 5)\n",
    "# pd.set_option('display.width', 1000)"
   ]
  },
  {
   "cell_type": "code",
   "execution_count": 59,
   "metadata": {
    "collapsed": false,
    "deletable": true,
    "editable": true
   },
   "outputs": [
    {
     "name": "stdout",
     "output_type": "stream",
     "text": [
      "<class 'pandas.core.frame.DataFrame'>\n",
      "RangeIndex: 404290 entries, 0 to 404289\n",
      "Data columns (total 6 columns):\n",
      "id              404290 non-null int64\n",
      "qid1            404290 non-null int64\n",
      "qid2            404290 non-null int64\n",
      "question1       404290 non-null object\n",
      "question2       404288 non-null object\n",
      "is_duplicate    404290 non-null int64\n",
      "dtypes: int64(4), object(2)\n",
      "memory usage: 18.5+ MB\n"
     ]
    }
   ],
   "source": [
    "data.info()"
   ]
  },
  {
   "cell_type": "code",
   "execution_count": null,
   "metadata": {
    "collapsed": true
   },
   "outputs": [],
   "source": []
  },
  {
   "cell_type": "code",
   "execution_count": 60,
   "metadata": {
    "collapsed": false,
    "deletable": true,
    "editable": true,
    "scrolled": true
   },
   "outputs": [
    {
     "data": {
      "text/html": [
       "<div>\n",
       "<table border=\"1\" class=\"dataframe\">\n",
       "  <thead>\n",
       "    <tr style=\"text-align: right;\">\n",
       "      <th></th>\n",
       "      <th>id</th>\n",
       "      <th>qid1</th>\n",
       "      <th>...</th>\n",
       "      <th>question2</th>\n",
       "      <th>is_duplicate</th>\n",
       "    </tr>\n",
       "  </thead>\n",
       "  <tbody>\n",
       "    <tr>\n",
       "      <th>0</th>\n",
       "      <td>0</td>\n",
       "      <td>1</td>\n",
       "      <td>...</td>\n",
       "      <td>What is the step by step guide to invest in sh...</td>\n",
       "      <td>0</td>\n",
       "    </tr>\n",
       "    <tr>\n",
       "      <th>1</th>\n",
       "      <td>1</td>\n",
       "      <td>3</td>\n",
       "      <td>...</td>\n",
       "      <td>What would happen if the Indian government sto...</td>\n",
       "      <td>0</td>\n",
       "    </tr>\n",
       "    <tr>\n",
       "      <th>2</th>\n",
       "      <td>2</td>\n",
       "      <td>5</td>\n",
       "      <td>...</td>\n",
       "      <td>How can Internet speed be increased by hacking...</td>\n",
       "      <td>0</td>\n",
       "    </tr>\n",
       "    <tr>\n",
       "      <th>3</th>\n",
       "      <td>3</td>\n",
       "      <td>7</td>\n",
       "      <td>...</td>\n",
       "      <td>Find the remainder when [math]23^{24}[/math] i...</td>\n",
       "      <td>0</td>\n",
       "    </tr>\n",
       "    <tr>\n",
       "      <th>4</th>\n",
       "      <td>4</td>\n",
       "      <td>9</td>\n",
       "      <td>...</td>\n",
       "      <td>Which fish would survive in salt water?</td>\n",
       "      <td>0</td>\n",
       "    </tr>\n",
       "  </tbody>\n",
       "</table>\n",
       "<p>5 rows × 6 columns</p>\n",
       "</div>"
      ],
      "text/plain": [
       "   id  qid1     ...                                               question2 is_duplicate\n",
       "0   0     1     ...       What is the step by step guide to invest in sh...            0\n",
       "1   1     3     ...       What would happen if the Indian government sto...            0\n",
       "2   2     5     ...       How can Internet speed be increased by hacking...            0\n",
       "3   3     7     ...       Find the remainder when [math]23^{24}[/math] i...            0\n",
       "4   4     9     ...                 Which fish would survive in salt water?            0\n",
       "\n",
       "[5 rows x 6 columns]"
      ]
     },
     "execution_count": 60,
     "metadata": {},
     "output_type": "execute_result"
    }
   ],
   "source": [
    "data.head()"
   ]
  },
  {
   "cell_type": "code",
   "execution_count": null,
   "metadata": {
    "collapsed": true
   },
   "outputs": [],
   "source": []
  },
  {
   "cell_type": "code",
   "execution_count": 61,
   "metadata": {
    "collapsed": false,
    "deletable": true,
    "editable": true
   },
   "outputs": [
    {
     "data": {
      "text/plain": [
       "array([['What is the step by step guide to invest in share market?',\n",
       "        'What is the step by step guide to invest in share market in india?'],\n",
       "       [ 'What would happen if the Indian government stole the Kohinoor (Koh-i-Noor) diamond back?',\n",
       "        'What is the story of Kohinoor (Koh-i-Noor) Diamond?'],\n",
       "       ['How can Internet speed be increased by hacking through DNS?',\n",
       "        'How can I increase the speed of my internet connection while using a VPN?'],\n",
       "       ['Find the remainder when [math]23^{24}[/math] is divided by 24,23?',\n",
       "        'Why am I mentally very lonely? How can I solve it?'],\n",
       "       ['Which fish would survive in salt water?',\n",
       "        'Which one dissolve in water quikly sugar, salt, methane and carbon di oxide?'],\n",
       "       [ \"I'm a triple Capricorn (Sun, Moon and ascendant in Capricorn) What does this say about me?\",\n",
       "        'Astrology: I am a Capricorn Sun Cap moon and cap rising...what does that say about me?'],\n",
       "       ['What keeps childern active and far from phone and video games?',\n",
       "        'Should I buy tiago?'],\n",
       "       ['What should I do to be a great geologist?',\n",
       "        'How can I be a good geologist?'],\n",
       "       ['When do you use \"&\" instead of \"and\"?',\n",
       "        'When do you use シ instead of し?'],\n",
       "       ['How do I hack Motorola DCX3400 for free internet?',\n",
       "        'Motorola (company): Can I hack my Charter Motorolla DCX3400?']], dtype=object)"
      ]
     },
     "execution_count": 61,
     "metadata": {},
     "output_type": "execute_result"
    }
   ],
   "source": [
    "data[['question2', 'question1']][:10].values"
   ]
  },
  {
   "cell_type": "code",
   "execution_count": 62,
   "metadata": {
    "collapsed": false,
    "deletable": true,
    "editable": true,
    "scrolled": false
   },
   "outputs": [
    {
     "data": {
      "text/plain": [
       "array([[ 'Astrology: I am a Capricorn Sun Cap moon and cap rising...what does that say about me?',\n",
       "        \"I'm a triple Capricorn (Sun, Moon and ascendant in Capricorn) What does this say about me?\"],\n",
       "       ['How can I be a good geologist?',\n",
       "        'What should I do to be a great geologist?'],\n",
       "       ['How do I read and find my YouTube comments?',\n",
       "        'How can I see all my Youtube comments?'],\n",
       "       ['What can make Physics easy to learn?',\n",
       "        'How can you make physics easy to learn?'],\n",
       "       ['What was your first sexual experience like?',\n",
       "        'What was your first sexual experience?'],\n",
       "       [ 'What would a Trump presidency mean for current international master’s students on an F1 visa?',\n",
       "        'How will a Trump presidency affect the students presently in US or planning to study in US?'],\n",
       "       ['What does manipulation mean?', 'What does manipulation means?'],\n",
       "       [ 'Why are so many Quora users posting questions that are readily answered on Google?',\n",
       "        'Why do people ask Quora questions which can be answered easily by Google?'],\n",
       "       ['Why do rockets look white?',\n",
       "        'Why are rockets and boosters painted white?'],\n",
       "       ['How should I prepare for CA final law?',\n",
       "        'How one should know that he/she completely prepare for CA final exam?']], dtype=object)"
      ]
     },
     "execution_count": 62,
     "metadata": {},
     "output_type": "execute_result"
    }
   ],
   "source": [
    "data[data['is_duplicate'] == 1][['question1', 'question2']][:10].values"
   ]
  },
  {
   "cell_type": "code",
   "execution_count": 63,
   "metadata": {
    "collapsed": false
   },
   "outputs": [
    {
     "data": {
      "text/plain": [
       "Index(['id', 'qid1', 'qid2', 'question1', 'question2', 'is_duplicate'], dtype='object')"
      ]
     },
     "execution_count": 63,
     "metadata": {},
     "output_type": "execute_result"
    }
   ],
   "source": [
    "data.columns"
   ]
  },
  {
   "cell_type": "code",
   "execution_count": 64,
   "metadata": {
    "collapsed": true
   },
   "outputs": [],
   "source": [
    "# rename columns \n",
    "data.columns = ['id', 'qid1', 'qid2', 'q1', 'q2', 'is_dub']"
   ]
  },
  {
   "cell_type": "code",
   "execution_count": 65,
   "metadata": {
    "collapsed": false
   },
   "outputs": [],
   "source": [
    "# convert all  floats to sgtring\n",
    "\n",
    "data['q1'] = data['q1'].astype(str)\n",
    "data['q2'] = data['q2'].astype(str)\n"
   ]
  },
  {
   "cell_type": "code",
   "execution_count": 66,
   "metadata": {
    "collapsed": false
   },
   "outputs": [],
   "source": [
    "data['q1_len'] = data['q1'].str.split().apply(len)\n",
    "data['q2_len'] = data['q2'].str.split().apply(len)"
   ]
  },
  {
   "cell_type": "code",
   "execution_count": 72,
   "metadata": {
    "collapsed": false
   },
   "outputs": [],
   "source": [
    "# find the the distribution of similar words and similar meaning \n",
    "# does syntax carry intent?\n",
    "\n",
    "data['diff_words'] = data.apply(lambda x: set(x['q1'].split())\n",
    "           .symmetric_difference(x['q2'].split()), axis=1)\n",
    "\n",
    "data['sim_words'] = data.apply(lambda x: set(x['q1'].split())\n",
    "           .intersection(x['q2'].split()), axis=1)"
   ]
  },
  {
   "cell_type": "code",
   "execution_count": 79,
   "metadata": {
    "collapsed": false
   },
   "outputs": [
    {
     "data": {
      "text/plain": [
       "5                {and, does, about, Capricorn, me?, a, say}\n",
       "7                                    {geologist?, I, a, be}\n",
       "11                                  {comments?, my, How, I}\n",
       "12                            {learn?, easy, can, to, make}\n",
       "13                         {was, first, sexual, What, your}\n",
       "                                ...                        \n",
       "404280    {party?, frat, some, are, wear, ideas, outfit,...\n",
       "404281                 {and, is, Manaphy, the, in, of, Why}\n",
       "404282                                {distance, long, How}\n",
       "404284                    {Jainism, about, say, What, does}\n",
       "404286                     {is, there, death?, after, life}\n",
       "Name: sim_words, dtype: object"
      ]
     },
     "execution_count": 79,
     "metadata": {},
     "output_type": "execute_result"
    }
   ],
   "source": [
    "data[data['is_dub'] == 1]['sim_words']"
   ]
  },
  {
   "cell_type": "code",
   "execution_count": 84,
   "metadata": {
    "collapsed": false
   },
   "outputs": [],
   "source": [
    "data['final_word'] = data[[\"q1\", \"q2\"]]\\\n",
    "    .apply(lambda x: (x[\"q1\"].split()[-1], x[\"q2\"].split()[-1]), axis=1)\n"
   ]
  },
  {
   "cell_type": "code",
   "execution_count": 95,
   "metadata": {
    "collapsed": false
   },
   "outputs": [],
   "source": [
    "data[\"final_word_same\"] = \\\n",
    "    data['final_word'].apply(lambda x: x[0] == x[1])"
   ]
  },
  {
   "cell_type": "code",
   "execution_count": null,
   "metadata": {
    "collapsed": true
   },
   "outputs": [],
   "source": [
    "last_word_dub_mask = \\\n",
    "    (data['is_dub'] ==1) & (data['final_word_same'] == True)\n",
    "    "
   ]
  },
  {
   "cell_type": "code",
   "execution_count": null,
   "metadata": {
    "collapsed": true
   },
   "outputs": [],
   "source": []
  },
  {
   "cell_type": "code",
   "execution_count": 98,
   "metadata": {
    "collapsed": false
   },
   "outputs": [
    {
     "data": {
      "text/plain": [
       "0.16908902025773578"
      ]
     },
     "execution_count": 98,
     "metadata": {},
     "output_type": "execute_result"
    }
   ],
   "source": [
    "len(data[last_word_dub_mask]) / len(data)"
   ]
  },
  {
   "cell_type": "code",
   "execution_count": null,
   "metadata": {
    "collapsed": true
   },
   "outputs": [],
   "source": []
  }
 ],
 "metadata": {
  "kernelspec": {
   "display_name": "Python 3",
   "language": "python",
   "name": "python3"
  },
  "language_info": {
   "codemirror_mode": {
    "name": "ipython",
    "version": 3
   },
   "file_extension": ".py",
   "mimetype": "text/x-python",
   "name": "python",
   "nbconvert_exporter": "python",
   "pygments_lexer": "ipython3",
   "version": "3.5.0"
  }
 },
 "nbformat": 4,
 "nbformat_minor": 0
}
